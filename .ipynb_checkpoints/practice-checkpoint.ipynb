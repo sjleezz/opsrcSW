{
 "cells": [
  {
   "cell_type": "code",
   "execution_count": 12,
   "id": "5ffb7550",
   "metadata": {},
   "outputs": [
    {
     "name": "stdout",
     "output_type": "stream",
     "text": [
      "-F\n",
      "C:\\USERS\\ASUS\\APPDATA\\ROAMING\\JUPYTER\\RUNTIME\\KERNEL-1FACCFEC-6E53-487A-B8CF-BB6C16EBDA30.JSON\n"
     ]
    }
   ],
   "source": [
    "import sys\n",
    "\n",
    "for a in sys.argv[1:] :\n",
    "    print(a.upper())\n"
   ]
  },
  {
   "cell_type": "code",
   "execution_count": null,
   "id": "8f52b511",
   "metadata": {},
   "outputs": [],
   "source": []
  }
 ],
 "metadata": {
  "kernelspec": {
   "display_name": "Python 3",
   "language": "python",
   "name": "python3"
  },
  "language_info": {
   "codemirror_mode": {
    "name": "ipython",
    "version": 3
   },
   "file_extension": ".py",
   "mimetype": "text/x-python",
   "name": "python",
   "nbconvert_exporter": "python",
   "pygments_lexer": "ipython3",
   "version": "3.8.8"
  }
 },
 "nbformat": 4,
 "nbformat_minor": 5
}
