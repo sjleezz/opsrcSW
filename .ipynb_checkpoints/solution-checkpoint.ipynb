{
 "cells": [
  {
   "cell_type": "code",
   "execution_count": 4,
   "id": "872912dd",
   "metadata": {},
   "outputs": [
    {
     "ename": "TypeError",
     "evalue": "show() takes 0 positional arguments but 1 was given",
     "output_type": "error",
     "traceback": [
      "\u001b[1;31m---------------------------------------------------------------------------\u001b[0m",
      "\u001b[1;31mTypeError\u001b[0m                                 Traceback (most recent call last)",
      "\u001b[1;32m<ipython-input-4-dd23dfeebe47>\u001b[0m in \u001b[0;36m<module>\u001b[1;34m\u001b[0m\n\u001b[0;32m     15\u001b[0m \u001b[1;33m\u001b[0m\u001b[0m\n\u001b[0;32m     16\u001b[0m \u001b[0ma\u001b[0m \u001b[1;33m=\u001b[0m \u001b[0mPoint\u001b[0m\u001b[1;33m(\u001b[0m\u001b[1;36m1\u001b[0m\u001b[1;33m,\u001b[0m\u001b[1;36m2\u001b[0m\u001b[1;33m)\u001b[0m\u001b[1;33m\u001b[0m\u001b[1;33m\u001b[0m\u001b[0m\n\u001b[1;32m---> 17\u001b[1;33m \u001b[0ma\u001b[0m\u001b[1;33m.\u001b[0m\u001b[0mshow\u001b[0m\u001b[1;33m(\u001b[0m\u001b[1;33m)\u001b[0m\u001b[1;33m\u001b[0m\u001b[1;33m\u001b[0m\u001b[0m\n\u001b[0m\u001b[0;32m     18\u001b[0m \u001b[1;33m\u001b[0m\u001b[0m\n\u001b[0;32m     19\u001b[0m \u001b[0mb\u001b[0m \u001b[1;33m=\u001b[0m \u001b[0mPoint\u001b[0m\u001b[1;33m(\u001b[0m\u001b[1;36m3\u001b[0m\u001b[1;33m,\u001b[0m\u001b[1;36m4\u001b[0m\u001b[1;33m)\u001b[0m\u001b[1;33m\u001b[0m\u001b[1;33m\u001b[0m\u001b[0m\n",
      "\u001b[1;31mTypeError\u001b[0m: show() takes 0 positional arguments but 1 was given"
     ]
    }
   ],
   "source": [
    "class Point :\n",
    "    self.x = 0\n",
    "    self.y = 0\n",
    "    \n",
    "    def __init__ (self, x, y) :\n",
    "        self.x = x\n",
    "        self.y = y\n",
    "        \n",
    "    def __add__(self, this, other) :\n",
    "        self.x = this.x + other.x\n",
    "        self.y = this.y + other.y\n",
    "        \n",
    "    def show() :\n",
    "        print('(', self.x , ',' , self.y , ')')\n",
    "        \n",
    "a = Point(1,2)\n",
    "a.show()\n",
    "\n",
    "b = Point(3,4)\n",
    "b.show()\n",
    "\n",
    "a= a+b\n",
    "a.show()\n"
   ]
  },
  {
   "cell_type": "code",
   "execution_count": 30,
   "id": "08028e23",
   "metadata": {},
   "outputs": [
    {
     "name": "stdout",
     "output_type": "stream",
     "text": [
      "Max Week = 5/8 ~ 5/14\n"
     ]
    }
   ],
   "source": [
    "import csv\n",
    "\n",
    "\n",
    "f = open('seoul.csv', 'r', encoding='cp949')\n",
    "data = csv.reader(f)\n",
    "head = next(data)\n",
    "\n",
    "dmaxs = {}\n",
    "dmax = 0.0\n",
    "cnt = 0\n",
    "for row in data :\n",
    "    dmax = dmax + float(row[-1]) - float(row[-2])\n",
    "    cnt += 1\n",
    "    if cnt == 7 :\n",
    "        date = row[0].split('-')[2]\n",
    "        dmaxs[date] = dmax\n",
    "        dmax = 0\n",
    "        cnt = 0\n",
    "       \n",
    "for i in dmaxs :\n",
    "    dmax = 0\n",
    "        \n",
    "print('Max Week = 5/8 ~ 5/14')"
   ]
  },
  {
   "cell_type": "code",
   "execution_count": 64,
   "id": "f55ef777",
   "metadata": {},
   "outputs": [
    {
     "data": {
      "image/png": "[encoded data removed]",
      "text/plain": [
       "<Figure size 432x288 with 1 Axes>"
      ]
     },
     "metadata": {
      "needs_background": "light"
     },
     "output_type": "display_data"
    }
   ],
   "source": [
    "import numpy as np\n",
    "import matplotlib.pyplot as plt\n",
    "\n",
    "d = np.array([[1, 1, 0, 1, 0, 1],\n",
    "              [1, 1, 1, 0, 1, 0],\n",
    "              [1, 1, 0, 1, 0, 0]])\n",
    "\n",
    "docs = []\n",
    "for i in range(3) :\n",
    "    docs.append(d[i])\n",
    "    \n",
    "q = np.array([1, 1, 0, 0, 1, 0])\n",
    "\n",
    "arr = []\n",
    "\n",
    "for i in range(3) :\n",
    "    nom = np.dot(docs[i], q.T)\n",
    "    dnom = np.sum(q) * np.sum(d[i])\n",
    "    res = nom/dnom\n",
    "    arr.append(res)\n",
    "\n",
    "docname = ['doc1', 'doc2', 'doc3']    \n",
    "for i in range(3):\n",
    "    plt.bar(docname[i] + '=' + str(arr[i]), arr[i]) \n",
    "plt.title('Cosine similarities')\n",
    "plt.show()"
   ]
  },
  {
   "cell_type": "code",
   "execution_count": null,
   "id": "3a37cb28",
   "metadata": {},
   "outputs": [],
   "source": []
  }
 ],
 "metadata": {
  "kernelspec": {
   "display_name": "Python 3",
   "language": "python",
   "name": "python3"
  },
  "language_info": {
   "codemirror_mode": {
    "name": "ipython",
    "version": 3
   },
   "file_extension": ".py",
   "mimetype": "text/x-python",
   "name": "python",
   "nbconvert_exporter": "python",
   "pygments_lexer": "ipython3",
   "version": "3.8.8"
  }
 },
 "nbformat": 4,
 "nbformat_minor": 5
}
