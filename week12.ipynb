{
 "cells": [
  {
   "cell_type": "code",
   "execution_count": 1,
   "id": "ffe84a23",
   "metadata": {},
   "outputs": [
    {
     "name": "stdout",
     "output_type": "stream",
     "text": [
      "일교차가 가장 큰 날\n",
      "2020-05-06\n",
      "최저 기온이 가장 낮은 날\n",
      "2020-12-30\n",
      "최고 기온이 가장 높은 날\n",
      "2020-06-22\n"
     ]
    }
   ],
   "source": [
    "## 실습 1\n",
    "\n",
    "import csv\n",
    "f = open('seoul.csv')\n",
    "data = csv.reader(f)\n",
    "header = next(data)\n",
    "\n",
    "max_diff = 0\n",
    "max_diff_date = ''\n",
    "\n",
    "worst_low_temp = 999\n",
    "worst_low_temp_date = ''\n",
    "\n",
    "best_high_temp = -999\n",
    "best_high_temp_date = ''\n",
    "\n",
    "for row in data :\n",
    "    if row[3] == '' or row[4] == '' :\n",
    "        row[3] = row[4] = -999\n",
    "        \n",
    "    if max_diff < abs(float(row[4]) - float(row[3])) :\n",
    "        max_diff = abs(float(row[4]) - float(row[3]))\n",
    "        max_diff_date = row[0]\n",
    "        \n",
    "    if worst_low_temp > float(row[3]) :\n",
    "        worst_low_temp = float(row[3])\n",
    "        worst_low_temp_date = row[0]\n",
    "        \n",
    "    if best_high_temp < float(row[4]) :\n",
    "        best_high_temp = float(row[4])\n",
    "        best_high_temp_date = row[0]\n",
    "        \n",
    "f.close()\n",
    "\n",
    "print('일교차가 가장 큰 날')\n",
    "print(max_diff_date)\n",
    "\n",
    "print('최저 기온이 가장 낮은 날')\n",
    "print(worst_low_temp_date)\n",
    "\n",
    "print('최고 기온이 가장 높은 날')\n",
    "print(best_high_temp_date)\n",
    "    "
   ]
  },
  {
   "cell_type": "code",
   "execution_count": 2,
   "id": "aa1fb010",
   "metadata": {},
   "outputs": [
    {
     "name": "stdout",
     "output_type": "stream",
     "text": [
      "이용객이 가장 많은 순위\n",
      "1.  강남 ( 3167883 )\n",
      "2.  신림 ( 2799927 )\n",
      "3.  구로디지털단지 ( 2598153 )\n",
      "\n",
      "이용객이 가장 적은 순위\n",
      "1.  신내 ( 3 )\n",
      "2.  지축 ( 4 )\n",
      "3.  창동 ( 6 )\n"
     ]
    }
   ],
   "source": [
    "## 실습 2\n",
    "\n",
    "import csv\n",
    "import operator\n",
    "\n",
    "f = open('subwayUse.csv')\n",
    "data = csv.reader(f)\n",
    "next(data)\n",
    "\n",
    "passenger_dict = {}\n",
    "\n",
    "for row in data :\n",
    "    if row[2] == '' and row[3] == '' :  # 한번 반복 이후 가장 큰 값이든 작은 값이든 그 row의 역ID를 공백으로 바꿔서 다음 반복에선 건너 뛰도록 한다\n",
    "        continue\n",
    "    for i in range(4, 6) :\n",
    "        str = ''\n",
    "        num = row[i].split(',')\n",
    "        for n in num :\n",
    "            str = str + n\n",
    "        row[i] = int(str)   \n",
    "    passenger_dict[row[3]] = row[4] + row[5] \n",
    "    \n",
    "print('이용객이 가장 많은 순위')\n",
    "sorted_by_value = sorted(passenger_dict.items(), key=operator.itemgetter(1), reverse=True)\n",
    "cnt = 1\n",
    "for key, value in sorted_by_value :\n",
    "    if cnt >= 4 :\n",
    "        break\n",
    "    print('{}. '.format(cnt), key, '(' , value , ')' )   \n",
    "    cnt = cnt + 1\n",
    "print()    \n",
    "print('이용객이 가장 적은 순위')\n",
    "sorted_by_value = sorted(passenger_dict.items(), key=operator.itemgetter(1), reverse=False)\n",
    "cnt = 1\n",
    "for key, value in sorted_by_value :\n",
    "    if cnt >= 4 :\n",
    "        break\n",
    "    print('{}. '.format(cnt), key, '(' , value , ')' )   \n",
    "    cnt = cnt + 1    "
   ]
  },
  {
   "cell_type": "code",
   "execution_count": null,
   "id": "cf81e141",
   "metadata": {},
   "outputs": [],
   "source": []
  }
 ],
 "metadata": {
  "kernelspec": {
   "display_name": "Python 3",
   "language": "python",
   "name": "python3"
  },
  "language_info": {
   "codemirror_mode": {
    "name": "ipython",
    "version": 3
   },
   "file_extension": ".py",
   "mimetype": "text/x-python",
   "name": "python",
   "nbconvert_exporter": "python",
   "pygments_lexer": "ipython3",
   "version": "3.8.8"
  }
 },
 "nbformat": 4,
 "nbformat_minor": 5
}
