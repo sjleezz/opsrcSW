{
 "cells": [
  {
   "cell_type": "code",
   "execution_count": 5,
   "metadata": {},
   "outputs": [
    {
     "name": "stdout",
     "output_type": "stream",
     "text": [
      "Numbers? 10 456 87 78\n",
      "Max =  456\n"
     ]
    }
   ],
   "source": [
    "# 실습 문제 2\n",
    "str = input('Numbers? ').split()\n",
    "for i in range(len(str)):\n",
    "    if int(str[0]) < int(str[i]) :\n",
    "        str[0] = int(str[i])\n",
    "max = str[0]        \n",
    "print('Max = ', max)"
   ]
  },
  {
   "cell_type": "code",
   "execution_count": 1,
   "metadata": {},
   "outputs": [
    {
     "name": "stdout",
     "output_type": "stream",
     "text": [
      "숫자를 입력하세요.\n",
      "암호화 하려면 1, 복호화 하려면 2 : 1\n",
      "암호화 실행합니다\n",
      "input string : abc def\n",
      "efg bcd "
     ]
    }
   ],
   "source": [
    "# 실습 문제 3\n",
    "\n",
    "def encode() :\n",
    "    arr = input('input string : ').split()\n",
    "    arr = arr[::-1]\n",
    "\n",
    "    str = ''\n",
    "    \n",
    "    for i in arr:\n",
    "        str = i\n",
    "        buf = ''\n",
    "        for j in range(len(str)) :\n",
    "            st = chr(ord(str[j]) + 1)    \n",
    "            buf = buf +  st\n",
    "        print(buf, end=' ')\n",
    " \n",
    "def decode() :\n",
    "    arr = input('input string : ').split()\n",
    "    arr = arr[::-1]\n",
    "\n",
    "    str = ''\n",
    "    \n",
    "    for i in arr:\n",
    "        str = i\n",
    "        buf = ''\n",
    "        for j in range(len(str)) :\n",
    "            st = chr(ord(str[j]) - 1)    \n",
    "            buf = buf +  st\n",
    "        print(buf, end=' ')\n",
    "\n",
    "def main() :\n",
    "    print(\"숫자를 입력하세요.\")\n",
    "    num = input('암호화 하려면 1, 복호화 하려면 2 : ')\n",
    "    if  num == '1' :\n",
    "        print('암호화 실행합니다')\n",
    "        encode()\n",
    "    elif num == '2' :\n",
    "        print('복호화 실행합니다')\n",
    "        decode()\n",
    "    else :\n",
    "        return       \n",
    "        \n",
    "if __name__ ==  \"__main__\":\n",
    "    main()\n",
    "   \n",
    "        "
   ]
  },
  {
   "cell_type": "code",
   "execution_count": null,
   "metadata": {},
   "outputs": [
    {
     "name": "stdout",
     "output_type": "stream",
     "text": [
      "Input 10 people's telephone number\n",
      "a 0101\n",
      "b 0102\n",
      "c 0103\n",
      "Name Search : 1, Tel Num Search 2 : 1\n",
      "Name Search 실행합니다\n",
      "Name? : a\n",
      "번호 :  0101\n",
      "Name Search : 1, Tel Num Search 2 : b\n",
      "다른 번호는 누르지 마십시오\n",
      "Name Search : 1, Tel Num Search 2 : 1\n",
      "Name Search 실행합니다\n",
      "Name? : b\n",
      "번호 :  0102\n",
      "Name Search : 1, Tel Num Search 2 : 2\n",
      "Tel Num Search 실행합니다\n",
      "Tel Num? : 0102\n",
      "이름 :  b\n",
      "Name Search : 1, Tel Num Search 2 : 2\n",
      "Tel Num Search 실행합니다\n",
      "Tel Num? : 0103\n",
      "이름 :  c\n"
     ]
    }
   ],
   "source": [
    "# 실습 문제 4\n",
    "\n",
    "def nameSearch(dic):\n",
    "    name = input('Name? : ')\n",
    "    print('번호 : ','0'+str(dic[name]))\n",
    "\n",
    "    \n",
    "def numSearch(dic):\n",
    "    num = int(input('Tel Num? : '))\n",
    "    for key in dic.keys():\n",
    "        if num == dic[key] :\n",
    "            print('이름 : ', key)   \n",
    "\n",
    "            \n",
    "def inputNameAndNum() :\n",
    "    print('Input 10 people\\'s telephone number')\n",
    "    dic = {}\n",
    "    dic = dict()\n",
    "    for i in range(3):\n",
    "        a , b = input().split()\n",
    "        dic[a] = int(b)\n",
    "    return dic\n",
    "\n",
    "\n",
    "def main() :\n",
    "    dic = inputNameAndNum()\n",
    "    while True :\n",
    "        num = input('Name Search : 1, Tel Num Search 2 : ')\n",
    "        if  num == '1' :\n",
    "            print('Name Search 실행합니다')\n",
    "            nameSearch(dic)\n",
    "        elif num == '2' :\n",
    "            print('Tel Num Search 실행합니다')\n",
    "            numSearch(dic)\n",
    "        else :\n",
    "            print('다른 번호는 누르지 마십시오')\n",
    "            continue       \n",
    "\n",
    "if __name__ ==  \"__main__\":\n",
    "    main()\n",
    "\n",
    "    \n",
    "    "
   ]
  },
  {
   "cell_type": "code",
   "execution_count": null,
   "metadata": {},
   "outputs": [],
   "source": []
  }
 ],
 "metadata": {
  "kernelspec": {
   "display_name": "Python 3",
   "language": "python",
   "name": "python3"
  },
  "language_info": {
   "codemirror_mode": {
    "name": "ipython",
    "version": 3
   },
   "file_extension": ".py",
   "mimetype": "text/x-python",
   "name": "python",
   "nbconvert_exporter": "python",
   "pygments_lexer": "ipython3",
   "version": "3.8.5"
  }
 },
 "nbformat": 4,
 "nbformat_minor": 4
}
